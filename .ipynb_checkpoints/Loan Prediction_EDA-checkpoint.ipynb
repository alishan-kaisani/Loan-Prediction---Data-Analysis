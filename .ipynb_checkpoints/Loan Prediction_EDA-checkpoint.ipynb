{
 "cells": [
  {
   "cell_type": "code",
   "execution_count": 1,
   "metadata": {
    "collapsed": true
   },
   "outputs": [],
   "source": [
    "import pandas as pd\n",
    "import matplotlib.pyplot as plt\n",
    "import numpy as np"
   ]
  },
  {
   "cell_type": "code",
   "execution_count": 2,
   "metadata": {},
   "outputs": [
    {
     "name": "stdout",
     "output_type": "stream",
     "text": [
      "    Loan_ID Gender  Married  Dependents     Education  Self_Employed  \\\n",
      "0  LP001002   Male        0         0.0      Graduate            0.0   \n",
      "1  LP001003   Male        1         1.0      Graduate            0.0   \n",
      "2  LP001005   Male        1         0.0      Graduate            1.0   \n",
      "3  LP001006   Male        1         0.0  Not Graduate            0.0   \n",
      "4  LP001008   Male        0         0.0      Graduate            0.0   \n",
      "\n",
      "   ApplicantIncome  CoapplicantIncome  LoanAmount  Loan_Amount_Term  \\\n",
      "0             5849                  0         NaN             360.0   \n",
      "1             4583               1508       128.0             360.0   \n",
      "2             3000                  0        66.0             360.0   \n",
      "3             2583               2358       120.0             360.0   \n",
      "4             6000                  0       141.0             360.0   \n",
      "\n",
      "   Credit_History Property_Area  Loan_Status  \n",
      "0             1.0         Urban            1  \n",
      "1             1.0         Rural            0  \n",
      "2             1.0         Urban            1  \n",
      "3             1.0         Urban            1  \n",
      "4             1.0         Urban            1  \n"
     ]
    }
   ],
   "source": [
    "df = pd.read_csv(\"Loan Prediction Train - refine.csv\")\n",
    "print(df.head())"
   ]
  },
  {
   "cell_type": "code",
   "execution_count": 3,
   "metadata": {
    "scrolled": true
   },
   "outputs": [
    {
     "name": "stdout",
     "output_type": "stream",
     "text": [
      "Total: 614\n",
      "Null: 134\n",
      "% Nulls: 21.82\n",
      "\n",
      "With these many Nulls, we have to consider doing something because it's too many to ignore\n",
      "\n",
      "Loan_ID:\n",
      "% Nulls: 0.0\n",
      "\n",
      "Gender:\n",
      "% Nulls: 2.0\n",
      "\n",
      "Married:\n",
      "% Nulls: 0.0\n",
      "\n",
      "Dependents:\n",
      "% Nulls: 2.0\n",
      "\n",
      "Education:\n",
      "% Nulls: 0.0\n",
      "\n",
      "Self_Employed:\n",
      "% Nulls: 5.0\n",
      "\n",
      "ApplicantIncome:\n",
      "% Nulls: 0.0\n",
      "\n",
      "CoapplicantIncome:\n",
      "% Nulls: 0.0\n",
      "\n",
      "LoanAmount:\n",
      "% Nulls: 4.0\n",
      "\n",
      "Loan_Amount_Term:\n",
      "% Nulls: 2.0\n",
      "\n",
      "Credit_History:\n",
      "% Nulls: 8.0\n",
      "\n",
      "Property_Area:\n",
      "% Nulls: 0.0\n",
      "\n",
      "Loan_Status:\n",
      "% Nulls: 0.0\n",
      "\n",
      "Based on this we will need to see the impact of each feature on the target\n",
      " and potentially consider just dropping some of these features\n"
     ]
    }
   ],
   "source": [
    "null_entries = len(df[df.isnull().any(axis=1)])\n",
    "total_entries = len(df)\n",
    "print(\"Total: {}\\nNull: {}\\n% Nulls: {}\\n\".format(total_entries,null_entries,round(100*null_entries/total_entries,2)))\n",
    "\n",
    "print(\"With these many Nulls, we have to consider doing something because it's too many to ignore\\n\")\n",
    "\n",
    "for col in df.columns.values:\n",
    "    null_entries = len(df[df[col].isnull()])\n",
    "    total_entries = len(df[col])\n",
    "    print(\"{}:\\n% Nulls: {}\\n\".format(col,100*round(null_entries/total_entries,2)))\n",
    "\n",
    "\n",
    "print(\"Based on this we will need to see the impact of each feature on the target\\n and potentially consider just dropping some of these features\")"
   ]
  },
  {
   "cell_type": "code",
   "execution_count": 4,
   "metadata": {},
   "outputs": [
    {
     "name": "stdout",
     "output_type": "stream",
     "text": [
      "For any columns with only 2% Nulls: Fill in the mode\n",
      "\n",
      "Gender:\n",
      "% Nulls: 0.0\n",
      "\n",
      "Dependents:\n",
      "% Nulls: 0.0\n",
      "\n",
      "Loan_Amount_Term:\n",
      "% Nulls: 0.0\n",
      "\n"
     ]
    }
   ],
   "source": [
    "print(\"For any columns with only 2% Nulls: Fill in the mode\\n\")\n",
    "\n",
    "mode_vars = [\"Gender\", \"Dependents\",\"Loan_Amount_Term\"]\n",
    "mode_dict = {}\n",
    "for var in mode_vars:\n",
    "    frequencies = df[var].value_counts()\n",
    "    val = np.argmax(frequencies)\n",
    "    mode_dict[var] = val\n",
    "\n",
    "df = df.replace(to_replace=np.nan,value=mode_dict)\n",
    "\n",
    "for col in mode_vars:\n",
    "    null_entries = len(df[df[col].isnull()])\n",
    "    total_entries = len(df[col])\n",
    "    print(\"{}:\\n% Nulls: {}\\n\".format(col,100*round(null_entries/total_entries,2)))"
   ]
  },
  {
   "cell_type": "code",
   "execution_count": 5,
   "metadata": {},
   "outputs": [
    {
     "name": "stdout",
     "output_type": "stream",
     "text": [
      "Since self-employed is a binary variable, we'll just randomly populate the remaining entries\n",
      "\n",
      "Self_Employed:\n",
      "% Nulls: 0.0\n",
      "\n"
     ]
    }
   ],
   "source": [
    "print(\"Since self-employed is a binary variable, we'll just randomly populate the remaining entries\\n\")\n",
    "\n",
    "for i in range(0,len(df)):\n",
    "    if np.isnan(df.iloc[i][\"Self_Employed\"]):\n",
    "        val = np.random.choice([float(0),float(1)])\n",
    "        df.at[(i,\"Self_Employed\")] = val\n",
    "\n",
    "null_entries = len(df[df[\"Self_Employed\"].isnull()])\n",
    "total_entries = len(df[\"Self_Employed\"])\n",
    "print(\"{}:\\n% Nulls: {}\\n\".format(\"Self_Employed\",100*round(null_entries/total_entries,2)))"
   ]
  },
  {
   "cell_type": "code",
   "execution_count": 6,
   "metadata": {},
   "outputs": [
    {
     "name": "stdout",
     "output_type": "stream",
     "text": [
      "{0.0, 1.0}\n"
     ]
    }
   ],
   "source": [
    "print(set(df[\"Self_Employed\"].values))"
   ]
  },
  {
   "cell_type": "code",
   "execution_count": 7,
   "metadata": {
    "scrolled": true
   },
   "outputs": [
    {
     "name": "stdout",
     "output_type": "stream",
     "text": [
      "Loan Amount isn't a simple categorical variable, and will likely have an import part in the model\n",
      "\n",
      "We'll fill it in with the average based on education,gender,married,dependents, and self-employed\n",
      "\n",
      "LoanAmount:\n",
      "% Nulls: 0.0\n",
      "\n"
     ]
    }
   ],
   "source": [
    "print(\"Loan Amount isn't a simple categorical variable, and will likely have an important part in the model\\n\")\n",
    "print(\"We'll fill it in with the average based on education,gender,married,dependents, and self-employed\\n\")\n",
    "\n",
    "total_mean = round(df[\"LoanAmount\"].mean())\n",
    "temp_list = []\n",
    "for i in range(0,len(df)):\n",
    "    if np.isnan(df.iloc[i][\"LoanAmount\"]):\n",
    "        married = df.iloc[i][\"Married\"]\n",
    "        temp = df[df[\"Married\"]==married]\n",
    "        gender = df.iloc[i][\"Gender\"]\n",
    "        temp = temp[temp[\"Gender\"]==gender]\n",
    "        dependents = df.iloc[i][\"Dependents\"]\n",
    "        temp = temp[temp[\"Dependents\"]==dependents]\n",
    "        education = df.iloc[i][\"Education\"]\n",
    "        temp = temp[temp[\"Education\"]==education]\n",
    "        self = df.iloc[i][\"Self_Employed\"]\n",
    "        temp = temp[temp[\"Self_Employed\"]==self]\n",
    "        if temp.empty or len(temp) == 1:\n",
    "            df.at[i,\"LoanAmount\"] = total_mean\n",
    "        elif len(temp) > 1:\n",
    "            df.at[i,\"LoanAmount\"] = round(temp[\"LoanAmount\"].mean(),0)\n",
    "null_entries = len(df[df[\"LoanAmount\"].isnull()])\n",
    "total_entries = len(df[\"LoanAmount\"])\n",
    "print(\"{}:\\n% Nulls: {}\\n\".format(\"LoanAmount\",100*round(null_entries/total_entries,2)))"
   ]
  },
  {
   "cell_type": "code",
   "execution_count": 8,
   "metadata": {},
   "outputs": [
    {
     "name": "stdout",
     "output_type": "stream",
     "text": [
      "Loan_ID:\n",
      "% Nulls: 0.0\n",
      "\n",
      "Gender:\n",
      "% Nulls: 0.0\n",
      "\n",
      "Married:\n",
      "% Nulls: 0.0\n",
      "\n",
      "Dependents:\n",
      "% Nulls: 0.0\n",
      "\n",
      "Education:\n",
      "% Nulls: 0.0\n",
      "\n",
      "Self_Employed:\n",
      "% Nulls: 0.0\n",
      "\n",
      "ApplicantIncome:\n",
      "% Nulls: 0.0\n",
      "\n",
      "CoapplicantIncome:\n",
      "% Nulls: 0.0\n",
      "\n",
      "LoanAmount:\n",
      "% Nulls: 0.0\n",
      "\n",
      "Loan_Amount_Term:\n",
      "% Nulls: 0.0\n",
      "\n",
      "Credit_History:\n",
      "% Nulls: 8.0\n",
      "\n",
      "Property_Area:\n",
      "% Nulls: 0.0\n",
      "\n",
      "Loan_Status:\n",
      "% Nulls: 0.0\n",
      "\n"
     ]
    }
   ],
   "source": [
    "for col in df.columns.values:\n",
    "    null_entries = len(df[df[col].isnull()])\n",
    "    total_entries = len(df[col])\n",
    "    print(\"{}:\\n% Nulls: {}\\n\".format(col,100*round(null_entries/total_entries,2)))"
   ]
  },
  {
   "cell_type": "code",
   "execution_count": 9,
   "metadata": {},
   "outputs": [
    {
     "name": "stdout",
     "output_type": "stream",
     "text": [
      "Credit History:\n",
      "\n",
      "Good (1.0)\n",
      "# who had good credit: 475\n",
      "Subset who got Loan: 378\n",
      "80.0\n",
      "Subset who didn't get Loan: 97\n",
      "20.0\n",
      "\n",
      "Bad (0.0)\n",
      "# who had bad credit: 89\n",
      "Subset who got Loan: 7\n",
      "8.0\n",
      "Subset who didn't get Loan: 82\n",
      "92.0\n",
      "\n",
      "Based on this we can see that having good credit makes you much more likely to get a loan and vice versa\n"
     ]
    }
   ],
   "source": [
    "print(\"Credit History:\\n\")\n",
    "\n",
    "print(\"Good (1.0)\")\n",
    "arr1 = df[df[\"Credit_History\"]==1.0]\n",
    "good1 = len(arr1[arr1[\"Loan_Status\"] == 1])\n",
    "bad1 = len(arr1[arr1[\"Loan_Status\"] == 0])\n",
    "\n",
    "print(\"# who had good credit: {}\".format(len(arr1)))\n",
    "print(\"Subset who got Loan: {}\".format(good1))\n",
    "print(100*round(good1/len(arr1),2))\n",
    "print(\"Subset who didn't get Loan: {}\".format(bad1))\n",
    "print(100*round(bad1/len(arr1),2))\n",
    "\n",
    "print()\n",
    "\n",
    "print(\"Bad (0.0)\")\n",
    "arr2 = df[df[\"Credit_History\"]==0.0]\n",
    "good2 = len(arr2[arr2[\"Loan_Status\"] == 1])\n",
    "bad2 = len(arr2[arr2[\"Loan_Status\"] == 0])\n",
    "\n",
    "print(\"# who had bad credit: {}\".format(len(arr2)))\n",
    "print(\"Subset who got Loan: {}\".format(good2))\n",
    "print(100*round(good2/len(arr2),2))\n",
    "print(\"Subset who didn't get Loan: {}\".format(bad2))\n",
    "print(100*round(bad2/len(arr2),2))\n",
    "\n",
    "print()\n",
    "\n",
    "print(\"Based on this we can see that having good credit makes you much more likely to get a loan and vice versa\")"
   ]
  },
  {
   "cell_type": "code",
   "execution_count": 10,
   "metadata": {},
   "outputs": [
    {
     "name": "stdout",
     "output_type": "stream",
     "text": [
      "Data for People with Good Credit who got a loan\n",
      "Married                 0.677249\n",
      "Dependents              0.759259\n",
      "Self_Employed           0.164021\n",
      "ApplicantIncome      5378.436508\n",
      "CoapplicantIncome    1466.185185\n",
      "LoanAmount            142.044974\n",
      "Loan_Amount_Term      342.349206\n",
      "Credit_History          1.000000\n",
      "Loan_Status             1.000000\n",
      "dtype: float64\n",
      "\n",
      "Data for People with Good Credit who didn't get a loan\n",
      "Married                 0.536082\n",
      "Dependents              0.639175\n",
      "Self_Employed           0.154639\n",
      "ApplicantIncome      5613.927835\n",
      "CoapplicantIncome    1786.443299\n",
      "LoanAmount            153.886598\n",
      "Loan_Amount_Term      343.051546\n",
      "Credit_History          1.000000\n",
      "Loan_Status             0.000000\n",
      "dtype: float64\n",
      "\n",
      "Data for People with Bad Credit who got a loan\n",
      "Married                 0.571429\n",
      "Dependents              1.285714\n",
      "Self_Employed           0.000000\n",
      "ApplicantIncome      9153.857143\n",
      "CoapplicantIncome    2098.142857\n",
      "LoanAmount            206.285714\n",
      "Loan_Amount_Term      308.571429\n",
      "Credit_History          0.000000\n",
      "Loan_Status             1.000000\n",
      "dtype: float64\n",
      "\n",
      "Data for People with Bad Credit who didn't get a loan\n",
      "Married                 0.646341\n",
      "Dependents              0.804878\n",
      "Self_Employed           0.158537\n",
      "ApplicantIncome      5382.841463\n",
      "CoapplicantIncome    1494.719512\n",
      "LoanAmount            142.402439\n",
      "Loan_Amount_Term      346.097561\n",
      "Credit_History          0.000000\n",
      "Loan_Status             0.000000\n",
      "dtype: float64\n"
     ]
    }
   ],
   "source": [
    "print(\"Data for People with Good Credit who got a loan\")\n",
    "print(arr1[arr1[\"Loan_Status\"] == 1].mean())\n",
    "print()\n",
    "\n",
    "print(\"Data for People with Good Credit who didn't get a loan\")\n",
    "print(arr1[arr1[\"Loan_Status\"] == 0].mean())\n",
    "print()\n",
    "\n",
    "print(\"Data for People with Bad Credit who got a loan\")\n",
    "print(arr2[arr2[\"Loan_Status\"] == 1].mean())\n",
    "print()\n",
    "\n",
    "print(\"Data for People with Bad Credit who didn't get a loan\")\n",
    "print(arr2[arr2[\"Loan_Status\"] == 0].mean())"
   ]
  },
  {
   "cell_type": "markdown",
   "metadata": {},
   "source": [
    "Trends to Note: \n",
    "* If you have bad credit, but have 1+ dependents, you're more likely to get a loan\n",
    "* If you have bad credit, but you're not self-employed, you're more likely to get a loan\n",
    "* If you have bad credit, but have a high income, you're more likely to get a loan"
   ]
  },
  {
   "cell_type": "code",
   "execution_count": 11,
   "metadata": {},
   "outputs": [
    {
     "name": "stdout",
     "output_type": "stream",
     "text": [
      "Good Credit Data Overall\n",
      "Married                 0.648421\n",
      "Dependents              0.734737\n",
      "Self_Employed           0.162105\n",
      "ApplicantIncome      5426.526316\n",
      "CoapplicantIncome    1531.585263\n",
      "LoanAmount            144.463158\n",
      "Loan_Amount_Term      342.492632\n",
      "Credit_History          1.000000\n",
      "Loan_Status             0.795789\n",
      "dtype: float64\n",
      "Graduate        0.8\n",
      "Not Graduate    0.2\n",
      "Name: Education, dtype: float64\n",
      "Male      0.823158\n",
      "Female    0.176842\n",
      "Name: Gender, dtype: float64\n",
      "Semiurban    0.393684\n",
      "Urban        0.317895\n",
      "Rural        0.288421\n",
      "Name: Property_Area, dtype: float64\n",
      "\n",
      "Bad Credit Data Overall\n",
      "Married                 0.640449\n",
      "Dependents              0.842697\n",
      "Self_Employed           0.146067\n",
      "ApplicantIncome      5679.438202\n",
      "CoapplicantIncome    1542.179775\n",
      "LoanAmount            147.426966\n",
      "Loan_Amount_Term      343.146067\n",
      "Credit_History          0.000000\n",
      "Loan_Status             0.078652\n",
      "dtype: float64\n",
      "Graduate        0.707865\n",
      "Not Graduate    0.292135\n",
      "Name: Education, dtype: float64\n",
      "Male      0.808989\n",
      "Female    0.191011\n",
      "Name: Gender, dtype: float64\n",
      "Urban        0.348315\n",
      "Semiurban    0.337079\n",
      "Rural        0.314607\n",
      "Name: Property_Area, dtype: float64\n"
     ]
    }
   ],
   "source": [
    "print(\"Good Credit Data Overall\")\n",
    "print(arr1.mean())\n",
    "print(arr1[\"Education\"].value_counts()/len(arr1))\n",
    "print(arr1[\"Gender\"].value_counts()/len(arr1))\n",
    "print(arr1[\"Property_Area\"].value_counts()/len(arr1))\n",
    "\n",
    "print()\n",
    "\n",
    "print(\"Bad Credit Data Overall\")\n",
    "print(arr2.mean())\n",
    "print(arr2[\"Education\"].value_counts()/len(arr2))\n",
    "print(arr2[\"Gender\"].value_counts()/len(arr2))\n",
    "print(arr2[\"Property_Area\"].value_counts()/len(arr2))"
   ]
  },
  {
   "cell_type": "markdown",
   "metadata": {},
   "source": [
    "Trends to Note: \n",
    "* Being married you more likely to have good credit\n",
    "* More dependents likely means bad credit\n",
    "* Being self-employed makes you more likley to have good credit\n",
    "* A higher income makes you more likely to have bad credit?\n",
    "* A longer loan term makes you more likely to have good credit"
   ]
  },
  {
   "cell_type": "code",
   "execution_count": 12,
   "metadata": {},
   "outputs": [
    {
     "name": "stdout",
     "output_type": "stream",
     "text": [
      "Based on complexity of trends present here, I will assume that Credit Score can be accurately determined\n",
      " based on education, marriage, and dependentents,\n",
      "\n",
      "A probability will be determined first and then mapped after based on the trends\n",
      "\n",
      "[0.0]\n",
      "[0.0, 0.9, 0.8571428571428571, 0.875, 0.75, 0.9782608695652174, 1.0, 0.9354838709677419, 0.8571428571428571, 1.0, 0.8918918918918919, 0.9354838709677419, 0.6666666666666666, 0.782608695652174, 0.8918918918918919, 1.0, 1.0, 0.875, 0.7333333333333333, 0.75, 0.8571428571428571, 1.0, 0.75, 0.8666666666666667, 0.875, 1.0, 1.0, 0.9782608695652174, 0.875, 0.9782608695652174, 0.875, 0.8260869565217391, 0.875, 0.8918918918918919, 1.0, 0.8333333333333334, 0.9782608695652174, 0.7333333333333333, 1.0, 1.0, 0.875, 0.6666666666666666, 0.875, 0.8918918918918919, 1.0, 0.5, 0.7333333333333333, 0.6363636363636364, 0.6666666666666666]\n"
     ]
    },
    {
     "data": {
      "image/png": "[encoded data removed]",
      "text/plain": [
       "<matplotlib.figure.Figure at 0x20df517bb70>"
      ]
     },
     "metadata": {},
     "output_type": "display_data"
    },
    {
     "name": "stdout",
     "output_type": "stream",
     "text": [
      "0.8513891152597968\n",
      "\n",
      "I am going to split this region along its mean and map any values above the mean to good credit and any values below the mean to bad credit\n",
      "Any outlier values will be left to random chance\n"
     ]
    }
   ],
   "source": [
    "print(\"Based on complexity of trends present here, I will assume that Credit Score can be accurately determined\\n based on education, marriage, and dependentents,\")\n",
    "print()\n",
    "print(\"A probability will be determined first and then mapped after based on the trends\")\n",
    "\n",
    "temp_list = []\n",
    "rand_list = []\n",
    "for i in range(0,len(df)):\n",
    "    if np.isnan(df.iloc[i][\"Credit_History\"]):\n",
    "        married = df.iloc[i][\"Married\"]\n",
    "        temp = df[df[\"Married\"]==married]\n",
    "        gender = df.iloc[i][\"Gender\"]\n",
    "        temp = temp[temp[\"Gender\"]==gender]\n",
    "        dependents = df.iloc[i][\"Dependents\"]\n",
    "        temp = temp[temp[\"Dependents\"]==dependents]\n",
    "        education = df.iloc[i][\"Education\"]\n",
    "        temp = temp[temp[\"Education\"]==education]\n",
    "        prop = df.iloc[i][\"Property_Area\"]\n",
    "        temp = temp[temp[\"Property_Area\"] == prop]\n",
    "        if temp.empty or len(temp) == 1:\n",
    "            val = np.random.choice([float(0),float(1)])\n",
    "            rand_list.append(val)\n",
    "        elif len(temp) > 1:\n",
    "            temp_list.append(temp[\"Credit_History\"].mean())\n",
    "\n",
    "print()\n",
    "print(rand_list)\n",
    "print(temp_list)\n",
    "\n",
    "x = [x for x in range(0,len(temp_list))]\n",
    "plt.plot(x,temp_list,'go')\n",
    "plt.show()\n",
    "\n",
    "import statistics\n",
    "mean = statistics.mean(temp_list)\n",
    "print(mean)\n",
    "\n",
    "print()\n",
    "print(\"I am going to split this region along its mean and map any values above the mean to good credit and any values below the mean to bad credit\")\n",
    "print(\"Any outlier values will be left to random chance\")"
   ]
  },
  {
   "cell_type": "code",
   "execution_count": 23,
   "metadata": {},
   "outputs": [
    {
     "name": "stdout",
     "output_type": "stream",
     "text": [
      "Credit History\n",
      "% Nulls: 0\n"
     ]
    }
   ],
   "source": [
    "for i in range(0,len(df)):\n",
    "    if np.isnan(df.iloc[i][\"Credit_History\"]):\n",
    "        married = df.iloc[i][\"Married\"]\n",
    "        temp = df[df[\"Married\"]==married]\n",
    "        gender = df.iloc[i][\"Gender\"]\n",
    "        temp = temp[temp[\"Gender\"]==gender]\n",
    "        dependents = df.iloc[i][\"Dependents\"]\n",
    "        temp = temp[temp[\"Dependents\"]==dependents]\n",
    "        education = df.iloc[i][\"Education\"]\n",
    "        temp = temp[temp[\"Education\"]==education]\n",
    "        prop = df.iloc[i][\"Property_Area\"]\n",
    "        temp = temp[temp[\"Property_Area\"] == prop]\n",
    "        if temp.empty or len(temp) == 1:\n",
    "            val = np.random.choice([float(0),float(1)])\n",
    "            df.at[i,\"Credit_History\"] = val\n",
    "        elif len(temp) > 1:\n",
    "            if df.iloc[i][\"Credit_History\"] > mean:\n",
    "                df.at[i,\"Credit_History\"] = 1\n",
    "            else:\n",
    "                df.at[i,\"Credit_History\"] = 0\n",
    "\n",
    "nulls = len(df[np.isnan(df[\"Credit_History\"])])\n",
    "total = len(df)\n",
    "print(\"Credit History\")\n",
    "print(\"% Nulls: {}\".format(round(nulls/total),2))"
   ]
  },
  {
   "cell_type": "markdown",
   "metadata": {},
   "source": [
    "### Feature Creation\n",
    "\n",
    "Now that the data has been fully cleaned, it can be applied to a model with the addition of 1 hot encoding existing categories as needed\n",
    "\n",
    "I now introduce the addition of some features that may be beneficial to increasing the accuracy of a model\n",
    "\n",
    "We begin by creating simple visualizations for each feature to see relevant trends"
   ]
  },
  {
   "cell_type": "markdown",
   "metadata": {},
   "source": [
    "#### Visualization"
   ]
  },
  {
   "cell_type": "code",
   "execution_count": 24,
   "metadata": {},
   "outputs": [
    {
     "data": {
      "image/png": "[encoded data removed]",
      "text/plain": [
       "<matplotlib.figure.Figure at 0x20df57e0be0>"
      ]
     },
     "metadata": {},
     "output_type": "display_data"
    },
    {
     "name": "stdout",
     "output_type": "stream",
     "text": [
      "Males tend to get loans more frequently than females\n"
     ]
    }
   ],
   "source": [
    "mapping = {\"Male\": 0, \"Female\": 1}\n",
    "X = df[\"Gender\"].map(mapping)\n",
    "Y = df[\"Loan_Status\"]\n",
    "plt.plot(X,Y,'go',alpha=0.01)\n",
    "plt.show()\n",
    "\n",
    "print(\"Males tend to get loans more frequently than females\")"
   ]
  },
  {
   "cell_type": "code",
   "execution_count": 15,
   "metadata": {},
   "outputs": [
    {
     "data": {
      "image/png": "[encoded data removed]",
      "text/plain": [
       "<matplotlib.figure.Figure at 0x20df56289b0>"
      ]
     },
     "metadata": {},
     "output_type": "display_data"
    },
    {
     "name": "stdout",
     "output_type": "stream",
     "text": [
      "No clear distinction based on marriage here\n"
     ]
    }
   ],
   "source": [
    "X = df[\"Married\"]\n",
    "Y = df[\"Loan_Status\"]\n",
    "plt.plot(X,Y,'ro',alpha=0.002)\n",
    "plt.show()\n",
    "\n",
    "print(\"No clear distinction based on marriage here\")"
   ]
  },
  {
   "cell_type": "code",
   "execution_count": 16,
   "metadata": {},
   "outputs": [
    {
     "data": {
      "image/png": "[encoded data removed]",
      "text/plain": [
       "<matplotlib.figure.Figure at 0x20df570be10>"
      ]
     },
     "metadata": {},
     "output_type": "display_data"
    },
    {
     "name": "stdout",
     "output_type": "stream",
     "text": [
      "An Increasing number of dependents shows a negative trend with loan status\n"
     ]
    }
   ],
   "source": [
    "X = df[\"Dependents\"]\n",
    "Y = df[\"Loan_Status\"]\n",
    "plt.plot(X,Y,'ro',alpha=0.01)\n",
    "plt.show()\n",
    "\n",
    "print(\"An Increasing number of dependents shows a negative trend with loan status\")"
   ]
  },
  {
   "cell_type": "code",
   "execution_count": 17,
   "metadata": {},
   "outputs": [
    {
     "data": {
      "image/png": "[encoded data removed]",
      "text/plain": [
       "<matplotlib.figure.Figure at 0x20df51604e0>"
      ]
     },
     "metadata": {},
     "output_type": "display_data"
    },
    {
     "name": "stdout",
     "output_type": "stream",
     "text": [
      "Having a degree is better than not having a degree\n"
     ]
    }
   ],
   "source": [
    "mapping = {\"Graduate\": 1, \"Not Graduate\": 0}\n",
    "X = df[\"Education\"].map(mapping)\n",
    "Y = df[\"Loan_Status\"]\n",
    "plt.plot(X,Y,'ro',alpha=0.002)\n",
    "plt.show()\n",
    "\n",
    "print(\"Having a degree is better than not having a degree\")"
   ]
  },
  {
   "cell_type": "code",
   "execution_count": 18,
   "metadata": {
    "scrolled": true
   },
   "outputs": [
    {
     "data": {
      "image/png": "[encoded data removed]",
      "text/plain": [
       "<matplotlib.figure.Figure at 0x20df56022e8>"
      ]
     },
     "metadata": {},
     "output_type": "display_data"
    },
    {
     "name": "stdout",
     "output_type": "stream",
     "text": [
      "Being self-employed is bad across the board\n"
     ]
    }
   ],
   "source": [
    "X = df[\"Self_Employed\"]\n",
    "Y = df[\"Loan_Status\"]\n",
    "plt.plot(X,Y,'ro',alpha=0.005)\n",
    "plt.show()\n",
    "\n",
    "print(\"Being self-employed is bad across the board\")"
   ]
  },
  {
   "cell_type": "code",
   "execution_count": 19,
   "metadata": {},
   "outputs": [
    {
     "data": {
      "image/png": "[encoded data removed]",
      "text/plain": [
       "<matplotlib.figure.Figure at 0x20df6836208>"
      ]
     },
     "metadata": {},
     "output_type": "display_data"
    },
    {
     "name": "stdout",
     "output_type": "stream",
     "text": [
      "There is a clear clustering of data around the lower income regions\n",
      "This could just be a result of the type of crowd that came to this bank\n"
     ]
    },
    {
     "data": {
      "image/png": "[encoded data removed]",
      "text/plain": [
       "<matplotlib.figure.Figure at 0x20df694f588>"
      ]
     },
     "metadata": {},
     "output_type": "display_data"
    },
    {
     "data": {
      "image/png": "[encoded data removed]",
      "text/plain": [
       "<matplotlib.figure.Figure at 0x20df6927a20>"
      ]
     },
     "metadata": {},
     "output_type": "display_data"
    }
   ],
   "source": [
    "X = df[\"ApplicantIncome\"]\n",
    "Y = df[\"Loan_Status\"]\n",
    "plt.plot(X,Y,'ro',alpha=0.5)\n",
    "plt.show()\n",
    "\n",
    "print(\"There is a clear clustering of data around the lower income regions\")\n",
    "print(\"This could just be a result of the type of crowd that came to this bank\")\n",
    "\n",
    "plt.figure()\n",
    "plt.plot(X,Y,'ro',alpha=0.5)\n",
    "plt.axis([-1000,21000,-0.05,1.05])\n",
    "plt.show()\n",
    "\n",
    "plt.figure()\n",
    "plt.plot(X,Y,'ro',alpha=0.5)\n",
    "plt.axis([-1000,10100,-0.05,1.05])\n",
    "plt.show()"
   ]
  },
  {
   "cell_type": "markdown",
   "metadata": {},
   "source": [
    "### New Feature"
   ]
  },
  {
   "cell_type": "code",
   "execution_count": 20,
   "metadata": {
    "scrolled": true
   },
   "outputs": [
    {
     "data": {
      "image/png": "[encoded data removed]",
      "text/plain": [
       "<matplotlib.figure.Figure at 0x20df698ffd0>"
      ]
     },
     "metadata": {},
     "output_type": "display_data"
    },
    {
     "data": {
      "image/png": "[encoded data removed]",
      "text/plain": [
       "<matplotlib.figure.Figure at 0x20df579b5c0>"
      ]
     },
     "metadata": {},
     "output_type": "display_data"
    },
    {
     "data": {
      "image/png": "[encoded data removed]",
      "text/plain": [
       "<matplotlib.figure.Figure at 0x20df583def0>"
      ]
     },
     "metadata": {},
     "output_type": "display_data"
    }
   ],
   "source": [
    "df[\"CombinedIncome\"] = df[\"ApplicantIncome\"] + df[\"CoapplicantIncome\"]\n",
    "X = df[\"CombinedIncome\"]\n",
    "Y = df[\"Loan_Status\"]\n",
    "plt.plot(X,Y,'ro',alpha=0.5)\n",
    "plt.show()\n",
    "\n",
    "plt.figure()\n",
    "plt.plot(X,Y,'ro',alpha=0.5)\n",
    "plt.axis([-1000,21000,-0.05,1.05])\n",
    "plt.show()\n",
    "\n",
    "plt.figure()\n",
    "plt.plot(X,Y,'ro',alpha=0.5)\n",
    "plt.axis([-1000,10100,-0.05,1.05])\n",
    "plt.show()"
   ]
  },
  {
   "cell_type": "code",
   "execution_count": 21,
   "metadata": {},
   "outputs": [
    {
     "data": {
      "image/png": "[encoded data removed]",
      "text/plain": [
       "<matplotlib.figure.Figure at 0x20df698f3c8>"
      ]
     },
     "metadata": {},
     "output_type": "display_data"
    },
    {
     "data": {
      "image/png": "[encoded data removed]",
      "text/plain": [
       "<matplotlib.figure.Figure at 0x20df69f2b38>"
      ]
     },
     "metadata": {},
     "output_type": "display_data"
    },
    {
     "data": {
      "image/png": "[encoded data removed]",
      "text/plain": [
       "<matplotlib.figure.Figure at 0x20df6908cc0>"
      ]
     },
     "metadata": {},
     "output_type": "display_data"
    }
   ],
   "source": [
    "df[\"Income_Percent\"] = df[\"CombinedIncome\"]/df[\"LoanAmount\"]\n",
    "\n",
    "X = df[\"Income_Percent\"]\n",
    "Y = df[\"Loan_Status\"]\n",
    "plt.plot(X,Y,'ro',alpha=0.5)\n",
    "plt.show()\n",
    "\n",
    "plt.figure()\n",
    "plt.plot(X,Y,'ro',alpha=0.5)\n",
    "\n",
    "plt.axis([0,150,-0.05,1.05])\n",
    "plt.show()\n",
    "\n",
    "plt.figure()\n",
    "plt.plot(X,Y,'ro',alpha=0.4)\n",
    "plt.axis([0,100,-0.05,1.05])\n",
    "plt.show()"
   ]
  },
  {
   "cell_type": "code",
   "execution_count": 22,
   "metadata": {},
   "outputs": [
    {
     "name": "stdout",
     "output_type": "stream",
     "text": [
      "['Loan_ID' 'Gender' 'Married' 'Dependents' 'Education' 'Self_Employed'\n",
      " 'ApplicantIncome' 'CoapplicantIncome' 'LoanAmount' 'Loan_Amount_Term'\n",
      " 'Credit_History' 'Property_Area' 'Loan_Status' 'CombinedIncome'\n",
      " 'Income_Percent']\n",
      "    Loan_ID Gender  Married  Dependents     Education  Self_Employed  \\\n",
      "0  LP001002   Male        0         0.0      Graduate            0.0   \n",
      "1  LP001003   Male        1         1.0      Graduate            0.0   \n",
      "2  LP001005   Male        1         0.0      Graduate            1.0   \n",
      "3  LP001006   Male        1         0.0  Not Graduate            0.0   \n",
      "\n",
      "   ApplicantIncome  CoapplicantIncome  LoanAmount  Loan_Amount_Term  \\\n",
      "0             5849                  0       134.0             360.0   \n",
      "1             4583               1508       128.0             360.0   \n",
      "2             3000                  0        66.0             360.0   \n",
      "3             2583               2358       120.0             360.0   \n",
      "\n",
      "   Credit_History Property_Area  Loan_Status  CombinedIncome  Income_Percent  \n",
      "0             1.0         Urban            1            5849       43.649254  \n",
      "1             1.0         Rural            0            6091       47.585938  \n",
      "2             1.0         Urban            1            3000       45.454545  \n",
      "3             1.0         Urban            1            4941       41.175000  \n"
     ]
    }
   ],
   "source": [
    "print(df.columns.values)\n",
    "print(df.head(4))"
   ]
  },
  {
   "cell_type": "code",
   "execution_count": 27,
   "metadata": {
    "collapsed": true
   },
   "outputs": [],
   "source": [
    "df.to_csv(\"Loan Prediction Train - final.csv\")"
   ]
  }
 ],
 "metadata": {
  "kernelspec": {
   "display_name": "Python 3",
   "language": "python",
   "name": "python3"
  },
  "language_info": {
   "codemirror_mode": {
    "name": "ipython",
    "version": 3
   },
   "file_extension": ".py",
   "mimetype": "text/x-python",
   "name": "python",
   "nbconvert_exporter": "python",
   "pygments_lexer": "ipython3",
   "version": "3.6.2"
  }
 },
 "nbformat": 4,
 "nbformat_minor": 2
}
